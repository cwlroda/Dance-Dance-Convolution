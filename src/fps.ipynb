{
 "cells": [
  {
   "cell_type": "code",
   "execution_count": null,
   "metadata": {},
   "outputs": [],
   "source": [
    "# import the necessary packages\n",
    "import datetime\n",
    " \n",
    "class FPS:\n",
    "\tdef __init__(self):\n",
    "\t\t# store the start time, end time, and total number of frames\n",
    "\t\t# that were examined between the start and end intervals\n",
    "\t\tself._start = None\n",
    "\t\tself._end = None\n",
    "\t\tself._numFrames = 0\n",
    " \n",
    "\tdef start(self):\n",
    "\t\t# start the timer\n",
    "\t\tself._start = datetime.datetime.now()\n",
    "\t\treturn self\n",
    " \n",
    "\tdef stop(self):\n",
    "\t\t# stop the timer\n",
    "\t\tself._end = datetime.datetime.now()\n",
    " \n",
    "\tdef update(self):\n",
    "\t\t# increment the total number of frames examined during the\n",
    "\t\t# start and end intervals\n",
    "\t\tself._numFrames += 1\n",
    " \n",
    "\tdef elapsed(self):\n",
    "\t\t# return the total number of seconds between the start and\n",
    "\t\t# end interval\n",
    "\t\treturn (self._end - self._start).total_seconds()\n",
    " \n",
    "\tdef fps(self):\n",
    "\t\t# compute the (approximate) frames per second\n",
    "\t\treturn self._numFrames / self.elapsed()"
   ]
  },
  {
   "cell_type": "code",
   "execution_count": null,
   "metadata": {},
   "outputs": [],
   "source": [
    "# import the necessary packages\n",
    "from threading import Thread\n",
    "import cv2\n",
    " \n",
    "class WebcamVideoStream:\n",
    "\tdef __init__(self, src=0):\n",
    "\t\t# initialize the video camera stream and read the first frame\n",
    "\t\t# from the stream\n",
    "\t\tself.stream = cv2.VideoCapture(src)\n",
    "\t\t(self.grabbed, self.frame) = self.stream.read()\n",
    " \n",
    "\t\t# initialize the variable used to indicate if the thread should\n",
    "\t\t# be stopped\n",
    "\t\tself.stopped = False\n",
    "        \n",
    "\tdef start(self):\n",
    "\t\t# start the thread to read frames from the video stream\n",
    "\t\tThread(target=self.update, args=()).start()\n",
    "\t\treturn self\n",
    " \n",
    "\tdef update(self):\n",
    "\t\t# keep looping infinitely until the thread is stopped\n",
    "\t\twhile True:\n",
    "\t\t\t# if the thread indicator variable is set, stop the thread\n",
    "\t\t\tif self.stopped:\n",
    "\t\t\t\treturn\n",
    " \n",
    "\t\t\t# otherwise, read the next frame from the stream\n",
    "\t\t\t(self.grabbed, self.frame) = self.stream.read()\n",
    " \n",
    "\tdef read(self):\n",
    "\t\t# return the frame most recently read\n",
    "\t\treturn self.frame\n",
    " \n",
    "\tdef stop(self):\n",
    "\t\t# indicate that the thread should be stopped\n",
    "\t\tself.stopped = True"
   ]
  },
  {
   "cell_type": "code",
   "execution_count": null,
   "metadata": {},
   "outputs": [],
   "source": [
    "# import the necessary packages\n",
    "from imutils.video import WebcamVideoStream\n",
    "from imutils.video import FPS\n",
    "import imutils\n",
    "import cv2"
   ]
  },
  {
   "cell_type": "markdown",
   "metadata": {},
   "source": [
    "# No Threading"
   ]
  },
  {
   "cell_type": "code",
   "execution_count": null,
   "metadata": {},
   "outputs": [],
   "source": [
    "# grab a pointer to the video stream and initialize the FPS counter\n",
    "print(\"[INFO] sampling frames from webcam...\")\n",
    "stream = cv2.VideoCapture(0)\n",
    "fps = FPS().start()\n",
    " \n",
    "# loop over some frames\n",
    "while fps._numFrames < 100:\n",
    "\t# grab the frame from the stream and resize it to have a maximum\n",
    "\t# width of 400 pixels\n",
    "\t(grabbed, frame) = stream.read()\n",
    "\tframe = imutils.resize(frame, width=400)\n",
    " \n",
    "\t# check to see if the frame should be displayed to our screen\n",
    "\tcv2.imshow(\"Frame\", frame)\n",
    "\tkey = cv2.waitKey(1) & 0xFF\n",
    " \n",
    "\t# update the FPS counter\n",
    "\tfps.update()\n",
    " \n",
    "# stop the timer and display FPS information\n",
    "fps.stop()\n",
    "print(\"[INFO] elasped time: {:.2f}\".format(fps.elapsed()))\n",
    "print(\"[INFO] approx. FPS: {:.2f}\".format(fps.fps()))\n",
    " \n",
    "# do a bit of cleanup\n",
    "stream.release()\n",
    "cv2.destroyAllWindows()"
   ]
  },
  {
   "cell_type": "markdown",
   "metadata": {},
   "source": [
    "# With Threading"
   ]
  },
  {
   "cell_type": "code",
   "execution_count": null,
   "metadata": {},
   "outputs": [],
   "source": [
    "# created a *threaded* video stream, allow the camera sensor to warmup,\n",
    "# and start the FPS counter\n",
    "print(\"[INFO] sampling THREADED frames from webcam...\")\n",
    "vs = WebcamVideoStream(src=0).start()\n",
    "fps = FPS().start()\n",
    " \n",
    "# loop over some frames...this time using the threaded stream\n",
    "while fps._numFrames < 100:\n",
    "\t# grab the frame from the threaded video stream and resize it\n",
    "\t# to have a maximum width of 400 pixels\n",
    "\tframe = vs.read()\n",
    "\tframe = imutils.resize(frame, width=400)\n",
    " \n",
    "\t# check to see if the frame should be displayed to our screen\n",
    "\tcv2.imshow(\"Frame\", frame)\n",
    "\tkey = cv2.waitKey(1) & 0xFF\n",
    " \n",
    "\t# update the FPS counter\n",
    "\tfps.update()\n",
    " \n",
    "# stop the timer and display FPS information\n",
    "fps.stop()\n",
    "print(\"[INFO] elasped time: {:.2f}\".format(fps.elapsed()))\n",
    "print(\"[INFO] approx. FPS: {:.2f}\".format(fps.fps()))\n",
    " \n",
    "# do a bit of cleanup\n",
    "cv2.destroyAllWindows()\n",
    "vs.stop()"
   ]
  },
  {
   "cell_type": "code",
   "execution_count": null,
   "metadata": {},
   "outputs": [],
   "source": []
  }
 ],
 "metadata": {
  "kernelspec": {
   "display_name": "Python 3",
   "language": "python",
   "name": "python3"
  },
  "language_info": {
   "codemirror_mode": {
    "name": "ipython",
    "version": 3
   },
   "file_extension": ".py",
   "mimetype": "text/x-python",
   "name": "python",
   "nbconvert_exporter": "python",
   "pygments_lexer": "ipython3",
   "version": "3.7.3"
  }
 },
 "nbformat": 4,
 "nbformat_minor": 2
}
