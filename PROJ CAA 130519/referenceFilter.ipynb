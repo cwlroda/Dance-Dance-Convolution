{
 "cells": [
  {
   "cell_type": "markdown",
   "metadata": {},
   "source": [
    "# EIE 1st Year Project - Reference Design 2019\n",
    "\n",
    "This notebook demonstrates the interface between PYNQ's Processing Systems (PS) and a custom HLS hardware block integrated with PYNQ's base overlay for real-time Video Processing. It implements a Vertical-Edge detector capable of running in >30fps. \n",
    "\n",
    "This material can be used for academic purposes only. Any commerical use is prohibited. \n",
    "\n",
    "Contact: Alexandros Kouris (a.kouris16@imperial.ac.uk), Ph.D. Candidate, Imperial College London"
   ]
  },
  {
   "cell_type": "code",
   "execution_count": null,
   "metadata": {},
   "outputs": [],
   "source": [
    "from pynq import Overlay, Xlnk\n",
    "from pynq.overlays.base import BaseOverlay\n",
    "\n",
    "allocator = Xlnk()\n",
    "\n",
    "#Load customised version of Base-Overlay,that included the custom hardware block, instead of using BaseOverlay(\"base.bit\")\n",
    "#------------------------------------------------------------------------------------------------------------------------\n",
    "#ol = Overlay(\"eie_v25.bit\") #Grayscale, full-frame (33fps)\n",
    "#ol = Overlay(\"eie_v25_2.bit\") #Grayscale, half-frame (33fps)\n",
    "ol = Overlay(\"/home/xilinx/jupyter_notebooks/eie_ref.bit\") #Vertical Edge-Detector, half-frame (33fps)  - EIE2019"
   ]
  },
  {
   "cell_type": "code",
   "execution_count": null,
   "metadata": {},
   "outputs": [],
   "source": [
    "from pynq.lib.video import *\n",
    "\n",
    "hdmi_in = ol.video.hdmi_in\n",
    "hdmi_out = ol.video.hdmi_out\n",
    "\n",
    "hdmi_in.configure(PIXEL_RGBA)\n",
    "hdmi_out.configure(hdmi_in.mode, PIXEL_RGBA)"
   ]
  },
  {
   "cell_type": "code",
   "execution_count": null,
   "metadata": {},
   "outputs": [],
   "source": [
    "hdmi_in.start()\n",
    "hdmi_out.start()"
   ]
  },
  {
   "cell_type": "code",
   "execution_count": null,
   "metadata": {},
   "outputs": [],
   "source": [
    "from pynq import MMIO\n",
    "#filter_reference = MMIO(0x00000000,0x10000)\n",
    "filter_reference = MMIO(0x83C20000,0x10000)  #MMIO Addresses should always be double-checked when exporting a Vivado Design"
   ]
  },
  {
   "cell_type": "code",
   "execution_count": 1,
   "metadata": {},
   "outputs": [
    {
     "ename": "NameError",
     "evalue": "name 'hdmi_in' is not defined",
     "output_type": "error",
     "traceback": [
      "\u001b[0;31m---------------------------------------------------------------------------\u001b[0m",
      "\u001b[0;31mNameError\u001b[0m                                 Traceback (most recent call last)",
      "\u001b[0;32m<ipython-input-1-e7d982d3c57d>\u001b[0m in \u001b[0;36m<module>\u001b[0;34m()\u001b[0m\n\u001b[1;32m      4\u001b[0m \u001b[0;34m\u001b[0m\u001b[0m\n\u001b[1;32m      5\u001b[0m \u001b[0;32mfor\u001b[0m \u001b[0m_\u001b[0m \u001b[0;32min\u001b[0m \u001b[0mrange\u001b[0m\u001b[0;34m(\u001b[0m\u001b[0;36m600\u001b[0m\u001b[0;34m)\u001b[0m\u001b[0;34m:\u001b[0m\u001b[0;34m\u001b[0m\u001b[0m\n\u001b[0;32m----> 6\u001b[0;31m     \u001b[0min_frame\u001b[0m \u001b[0;34m=\u001b[0m \u001b[0mhdmi_in\u001b[0m\u001b[0;34m.\u001b[0m\u001b[0mreadframe\u001b[0m\u001b[0;34m(\u001b[0m\u001b[0;34m)\u001b[0m\u001b[0;34m\u001b[0m\u001b[0m\n\u001b[0m\u001b[1;32m      7\u001b[0m     \u001b[0mf_out\u001b[0m \u001b[0;34m=\u001b[0m \u001b[0mhdmi_out\u001b[0m\u001b[0;34m.\u001b[0m\u001b[0mnewframe\u001b[0m\u001b[0;34m(\u001b[0m\u001b[0;34m)\u001b[0m\u001b[0;34m\u001b[0m\u001b[0m\n\u001b[1;32m      8\u001b[0m     \u001b[0mfilter_reference\u001b[0m\u001b[0;34m.\u001b[0m\u001b[0mwrite\u001b[0m\u001b[0;34m(\u001b[0m\u001b[0;36m0x10\u001b[0m\u001b[0;34m,\u001b[0m \u001b[0mf\u001b[0m\u001b[0;34m.\u001b[0m\u001b[0mphysical_address\u001b[0m\u001b[0;34m)\u001b[0m\u001b[0;34m\u001b[0m\u001b[0m\n",
      "\u001b[0;31mNameError\u001b[0m: name 'hdmi_in' is not defined"
     ]
    }
   ],
   "source": [
    "import time\n",
    "\n",
    "start = time.time()\n",
    "\n",
    "for _ in range(600):\n",
    "    in_frame = hdmi_in.readframe()\n",
    "    out_frame = hdmi_out.newframe()\n",
    "    filter_reference.write(0x10, in_frame.physical_address)   # Get Pointers to memory\n",
    "    filter_reference.write(0x18, out_frame.physical_address)\n",
    "    filter_reference.write(0x20, 1280)   # Make sure that the input HDMI signal is set to 1280x720\n",
    "    filter_reference.write(0x28, 720)\n",
    "    #filter_reference.write(0x20, in_frame.shape[1]) \n",
    "    #filter_reference.write(0x28, in_frame.shape[0])\n",
    "    filter_reference.write(0x00, 0x01)             # ap_start triggering\n",
    "    while (filter_reference.read(0) & 0x4) == 0:   # ap_done checking\n",
    "        pass\n",
    "    hdmi_out.writeframe(out_frame)\n",
    "\n",
    "end = time.time()\n",
    "\n",
    "print(f\"600 frames took {end-start} seconds at {600/(end-start)} fps\")"
   ]
  },
  {
   "cell_type": "code",
   "execution_count": null,
   "metadata": {},
   "outputs": [],
   "source": [
    "hdmi_in.close()    # Don't forget to run this to free memory\n",
    "hdmi_out.close()   # NEVERFORGET NEVERFORGET NEVERFORGET :p "
   ]
  },
  {
   "cell_type": "code",
   "execution_count": null,
   "metadata": {},
   "outputs": [],
   "source": []
  }
 ],
 "metadata": {
  "kernelspec": {
   "display_name": "Python 3",
   "language": "python",
   "name": "python3"
  },
  "language_info": {
   "codemirror_mode": {
    "name": "ipython",
    "version": 3
   },
   "file_extension": ".py",
   "mimetype": "text/x-python",
   "name": "python",
   "nbconvert_exporter": "python",
   "pygments_lexer": "ipython3",
   "version": "3.6.5"
  }
 },
 "nbformat": 4,
 "nbformat_minor": 2
}
